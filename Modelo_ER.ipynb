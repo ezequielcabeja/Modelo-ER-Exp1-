/*
 dbdia Primeira experiência - Modelo ER(Entidade_Relacionamento)
 Ezequiel Paulo
 https://github.com/ezequielcabeja
*/

//Definindo as Entidades-Tipo:

FUNCIONÁRIO () //Sem identificação de atributos (por convenção).
ESPAÇO () //Sem identificação de atributos (por convenção).
EVENTO (Data_Início, Data_Fim)

//Construindo os diagramas (com as devidas relações):

// Relação: TRABALHA_EM 
// Entidades envolvidas: FUNCIONÁRIO e ESPAÇO 
// Cardinalidade: N para 1
// Participação: Total (para os dois lados)
// Relacionamento entre atributos: Nenhuma

FUNCIONÁRIO ======== N ====== <TRABALHA_EM> ======= 1 ======= ESPAÇO 

// Relação: GERE 
// Entidades envolvidas: FUNCIONÁRIO e ESPAÇO 
// Cardinalidade: 1 para 1
// Participação: Total (para os dois lados)
// Relacionamento entre atributos: Nenhuma

FUNCIONÁRIO ======== 1 ====== <GERE> ======= 1 ======= ESPAÇO 

// Relação: SUPERVISIONA
// Entidades envolvidas: FUNCIONÁRIO e  FUNCIONÁRIO
// Cardinalidade: 1 para N
// Participação: Parcial (para os dois lados)
// Relacionamento entre atributos: Nenhuma

FUNCIONÁRIO -------- 1 ------ <SUPERVISIONA> -------- N ------ FUNCIONÁRIO 

// Relação: ALOCAÇÃO 
// Entidades envolvidas: EVENTO e ESPAÇO 
// Cardinalidade: M para N
// Participação: Total (para EVENTO), Parcial (para ESPAÇO)
// Relacionamento entre atributos: Nenhuma

EVENTO ======== M ===== <ALOCAÇÃO> -------- N ------ ESPAÇO 



