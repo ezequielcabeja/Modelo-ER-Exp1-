{
  "nbformat": 4,
  "nbformat_minor": 0,
  "metadata": {
    "colab": {
      "provenance": [],
      "authorship_tag": "ABX9TyP+xODkYPi/VfY6b3qjjt/c",
      "include_colab_link": true
    },
    "kernelspec": {
      "name": "python3",
      "display_name": "Python 3"
    },
    "language_info": {
      "name": "python"
    }
  },
  "cells": [
    {
      "cell_type": "markdown",
      "metadata": {
        "id": "view-in-github",
        "colab_type": "text"
      },
      "source": [
        "<a href=\"https://colab.research.google.com/github/ezequielcabeja/Modelo-ER-Exp1-/blob/main/Modelo_ER.ipynb\" target=\"_parent\"><img src=\"https://colab.research.google.com/assets/colab-badge.svg\" alt=\"Open In Colab\"/></a>"
      ]
    },
    {
      "cell_type": "markdown",
      "source": [
        "/*\n",
        " dbdia Primeira experiência - Modelo ER(Entidade_Relacionamento)\n",
        " Ezequiel Paulo\n",
        " https://github.com/ezequielcabeja\n",
        "*/\n",
        "\n",
        "//Definindo as Entidades-Tipo:\n",
        "\n",
        "FUNCIONÁRIO () //Sem identificação de atributos (por convenção).\n",
        "ESPAÇO () //Sem identificação de atributos (por convenção).\n",
        "EVENTO (Data_Início, Data_Fim)\n",
        "\n",
        "//Construindo os diagramas (com as devidas relações):\n",
        "\n",
        "// Relação: TRABALHA_EM\n",
        "// Entidades envolvidas: FUNCIONÁRIO e ESPAÇO\n",
        "// Cardinalidade: N para 1\n",
        "// Participação: Total (para os dois lados)\n",
        "// Relacionamento entre atributos: Nenhuma\n",
        "\n",
        "FUNCIONÁRIO ======== N ====== <TRABALHA_EM> ======= 1 ======= ESPAÇO\n",
        "\n",
        "// Relação: GERE\n",
        "// Entidades envolvidas: FUNCIONÁRIO e ESPAÇO\n",
        "// Cardinalidade: 1 para 1\n",
        "// Participação: Total (para os dois lados)\n",
        "// Relacionamento entre atributos: Nenhuma\n",
        "\n",
        "FUNCIONÁRIO ======== 1 ====== <GERE> ======= 1 ======= ESPAÇO\n",
        "\n",
        "// Relação: SUPERVISIONA\n",
        "// Entidades envolvidas: FUNCIONÁRIO e  FUNCIONÁRIO\n",
        "// Cardinalidade: 1 para N\n",
        "// Participação: Parcial (para os dois lados)\n",
        "// Relacionamento entre atributos: Nenhuma\n",
        "\n",
        "FUNCIONÁRIO -------- 1 ------ <SUPERVISIONA> -------- N ------ FUNCIONÁRIO\n",
        "\n",
        "// Relação: ALOCAÇÃO\n",
        "// Entidades envolvidas: EVENTO e ESPAÇO\n",
        "// Cardinalidade: M para N\n",
        "// Participação: Total (para EVENTO), Parcial (para ESPAÇO)\n",
        "// Relacionamento entre atributos: Nenhuma\n",
        "\n",
        "EVENTO ======== M ===== <ALOCAÇÃO> -------- N ------ ESPAÇO"
      ],
      "metadata": {
        "id": "PDwyVmldrHFz"
      }
    }
  ]
}